{
 "cells": [
  {
   "cell_type": "code",
   "execution_count": 6,
   "id": "8eecb5a0",
   "metadata": {
    "ExecuteTime": {
     "end_time": "2024-03-24T10:45:54.471082Z",
     "start_time": "2024-03-24T10:45:54.468082Z"
    }
   },
   "outputs": [],
   "source": [
    "# 2023/09/06 0:22 作\n",
    "# 교수님 제안, AI 활용으로 자동 투하\n",
    "\n",
    "# HSV 변환 後, 컬러 (박스 혹은 원형) 검출, Canny 알고리즘 적용?\n",
    "# 특정 좌표값 이용하여 근사수치일 경우 투하,\n",
    "\n",
    "## 완성되면 +++\n",
    "### 시간 변화에 따라 실패 가능성을 높이고\n",
    "### 실패 가능성이 높으나 타겟 근사치 비행시 투하하도록\n"
   ]
  },
  {
   "cell_type": "code",
   "execution_count": 7,
   "id": "f1e65e01",
   "metadata": {
    "tags": [],
    "ExecuteTime": {
     "end_time": "2024-03-24T10:45:54.494710Z",
     "start_time": "2024-03-24T10:45:54.492083Z"
    }
   },
   "outputs": [],
   "source": [
    "import matplotlib.pyplot as plt\n",
    "import numpy as np\n",
    "import cv2\n",
    "\n",
    "lower = np.array([0, 200, 0],np.uint8)\n",
    "upper = np.array([255, 255, 255],np.uint8)"
   ]
  },
  {
   "cell_type": "code",
   "execution_count": 8,
   "id": "cc17f990",
   "metadata": {
    "ExecuteTime": {
     "end_time": "2024-03-24T10:45:54.498841Z",
     "start_time": "2024-03-24T10:45:54.495708Z"
    }
   },
   "outputs": [],
   "source": [
    "# 모양 검출해내기\n",
    "def detectionShape(p):\n",
    "    period = cv2.arcLength(p,True)\n",
    "    approx = cv2.approxPolyDP( p, 0.04 * period, True )\n",
    "    if len(approx) == 4:\n",
    "        (x,y,w,h) = cv2.boundingRect(approx)\n",
    "#        print(f\"detection shape x:{x} y:{y} w:{w} h:{h}\")\n",
    "        return \"square\"\n",
    "    else:\n",
    "        return \"circle\""
   ]
  },
  {
   "cell_type": "code",
   "execution_count": 9,
   "id": "22ce9c03",
   "metadata": {
    "ExecuteTime": {
     "end_time": "2024-03-24T10:45:54.634633Z",
     "start_time": "2024-03-24T10:45:54.499837Z"
    }
   },
   "outputs": [
    {
     "ename": "NameError",
     "evalue": "name 'frame' is not defined",
     "output_type": "error",
     "traceback": [
      "\u001B[1;31m---------------------------------------------------------------------------\u001B[0m",
      "\u001B[1;31mNameError\u001B[0m                                 Traceback (most recent call last)",
      "Cell \u001B[1;32mIn[9], line 34\u001B[0m\n\u001B[0;32m     32\u001B[0m blurred4 \u001B[38;5;241m=\u001B[39m cv2\u001B[38;5;241m.\u001B[39mGaussianBlur(canny4, (\u001B[38;5;241m5\u001B[39m, \u001B[38;5;241m5\u001B[39m), \u001B[38;5;241m0\u001B[39m)\n\u001B[0;32m     33\u001B[0m \u001B[38;5;66;03m#canny = cv2.Canny(frame,Canny_threshold1,Canny_threshold2)\u001B[39;00m\n\u001B[1;32m---> 34\u001B[0m gray \u001B[38;5;241m=\u001B[39m cv2\u001B[38;5;241m.\u001B[39mcvtColor(frame, cv2\u001B[38;5;241m.\u001B[39mCOLOR_BGR2GRAY)\n\u001B[0;32m     35\u001B[0m blurred \u001B[38;5;241m=\u001B[39m cv2\u001B[38;5;241m.\u001B[39mGaussianBlur(gray, (\u001B[38;5;241m5\u001B[39m, \u001B[38;5;241m5\u001B[39m), \u001B[38;5;241m0\u001B[39m)\n\u001B[0;32m     36\u001B[0m _, thresh \u001B[38;5;241m=\u001B[39m cv2\u001B[38;5;241m.\u001B[39mthreshold(blurred, threshold, \u001B[38;5;241m255\u001B[39m, cv2\u001B[38;5;241m.\u001B[39mTHRESH_BINARY)\n",
      "\u001B[1;31mNameError\u001B[0m: name 'frame' is not defined"
     ]
    }
   ],
   "source": [
    "row = 1\n",
    "col = 4\n",
    "\n",
    "Canny_threshold1 = 105 #105\n",
    "Canny_threshold2 = 175 #175 적절함\n",
    "\n",
    "# 기본 테스트 타겟\n",
    "example_target_image = cv2.imread('media/target.png')\n",
    "hsv_scale = cv2.cvtColor(example_target_image,cv2.COLOR_BGR2HSV)\n",
    "target1 = cv2.inRange(hsv_scale, lower, upper)\n",
    "canny1 = cv2.Canny(target1,Canny_threshold1,Canny_threshold2)\n",
    "\n",
    "# -- 실제 환경과 유사할 수 있는 환경 --\n",
    "hard_version_target = cv2.imread('media/hard_target.png')\n",
    "hard_hsv_scale = cv2.cvtColor(hard_version_target,cv2.COLOR_BGR2HSV)\n",
    "target2 = cv2.inRange(hard_hsv_scale, lower, upper)\n",
    "canny2 = cv2.Canny(target2,Canny_threshold1,Canny_threshold2)\n",
    "\n",
    "# 복잡한 패턴이 포함된 환경\n",
    "hard_version_target2 = cv2.imread('media/hard_target2.png')\n",
    "hard_hsv_scale2 = cv2.cvtColor(hard_version_target2,cv2.COLOR_BGR2HSV)\n",
    "target3 = cv2.inRange(hard_hsv_scale2, lower, upper)\n",
    "canny3 = cv2.Canny(target3,Canny_threshold1,Canny_threshold2)\n",
    "\n",
    "threshold = 60\n",
    "\n",
    "# 노이즈가 포함된 환경\n",
    "noized_target = cv2.imread('media/noized_target.png')\n",
    "noized_hsv_scale = cv2.cvtColor(noized_target,cv2.COLOR_BGR2HSV)\n",
    "noized_filter_target = cv2.inRange(noized_hsv_scale, lower, upper)\n",
    "canny4 = cv2.Canny(noized_filter_target,Canny_threshold1,Canny_threshold2)\n",
    "blurred4 = cv2.GaussianBlur(canny4, (5, 5), 0)\n",
    "#canny = cv2.Canny(frame,Canny_threshold1,Canny_threshold2)\n",
    "gray = cv2.cvtColor(frame, cv2.COLOR_BGR2GRAY)\n",
    "blurred = cv2.GaussianBlur(gray, (5, 5), 0)\n",
    "_, thresh = cv2.threshold(blurred, threshold, 255, cv2.THRESH_BINARY)\n",
    "canny = cv2.Canny(thresh,Canny_threshold1,Canny_threshold2)"
   ]
  },
  {
   "cell_type": "markdown",
   "id": "74d28436",
   "metadata": {},
   "source": [
    "# 현재 코드의 문제점들\n",
    "# 問１\n",
    "> HSV 칼라스케일로하면 검은색 개별검출은 포기할 것인가?\n",
    "\n",
    "# 問２\n",
    "> 경기장 환경 (먼지/노이즈/카메라특성)에 따른 상자 노이즈가 발생한다면?\n",
    "\n",
    "# 問３\n",
    "> \n"
   ]
  },
  {
   "cell_type": "code",
   "execution_count": null,
   "id": "e1b13b9b",
   "metadata": {
    "scrolled": true,
    "ExecuteTime": {
     "start_time": "2024-03-24T10:45:54.635632Z"
    }
   },
   "outputs": [],
   "source": [
    "plt.subplot(row, col, 1)\n",
    "plt.title(\"normal target\")\n",
    "plt.imshow(example_target_image)\n",
    "plt.xticks([]), plt.yticks([])\n",
    "\n",
    "plt.subplot(row, col, 2)\n",
    "plt.title(\"hsv normal\")\n",
    "plt.imshow(hsv_scale)\n",
    "plt.xticks([]), plt.yticks([])\n",
    "\n",
    "plt.subplot(row, col, 3)\n",
    "plt.title(\"filtered\")\n",
    "plt.imshow(target1)\n",
    "plt.xticks([]), plt.yticks([])\n",
    "\n",
    "plt.subplot(row,col,4)\n",
    "plt.title(\"canny\")\n",
    "plt.imshow(canny1)\n",
    "plt.xticks([]), plt.yticks([])\n",
    "\n",
    "plt.show()"
   ]
  },
  {
   "cell_type": "code",
   "execution_count": null,
   "id": "760ed378",
   "metadata": {
    "ExecuteTime": {
     "start_time": "2024-03-24T10:45:54.635632Z"
    }
   },
   "outputs": [],
   "source": [
    "plt.subplot(row, col, 1)\n",
    "plt.title(\"hard detection\")\n",
    "plt.imshow(hard_version_target)\n",
    "plt.xticks([]), plt.yticks([])\n",
    "\n",
    "plt.subplot(row, col, 2)\n",
    "plt.title(\"hard hsv\")\n",
    "plt.imshow(hard_hsv_scale)\n",
    "plt.xticks([]), plt.yticks([])\n",
    "\n",
    "plt.subplot(row, col, 3)\n",
    "plt.title(\"filtered\")\n",
    "plt.imshow(target2)\n",
    "plt.xticks([]), plt.yticks([])\n",
    "\n",
    "plt.subplot(row, col, 4)\n",
    "plt.title(\"canny\")\n",
    "plt.imshow(canny2)\n",
    "plt.xticks([]), plt.yticks([])\n",
    "\n",
    "plt.show()"
   ]
  },
  {
   "cell_type": "code",
   "execution_count": null,
   "id": "894c47ce",
   "metadata": {
    "scrolled": true,
    "ExecuteTime": {
     "start_time": "2024-03-24T10:45:54.636633Z"
    }
   },
   "outputs": [],
   "source": [
    "plt.subplot(row, col, 1)\n",
    "plt.title(\"hard detection\")\n",
    "plt.imshow(hard_version_target2)\n",
    "plt.xticks([]), plt.yticks([])\n",
    "\n",
    "plt.subplot(row, col, 2)\n",
    "plt.title(\"hard hsv\")\n",
    "plt.imshow(hard_hsv_scale2)\n",
    "plt.xticks([]), plt.yticks([])\n",
    "\n",
    "plt.subplot(row, col, 3)\n",
    "plt.title(\"filtered\")\n",
    "plt.imshow(target3)\n",
    "plt.xticks([]), plt.yticks([])\n",
    "\n",
    "plt.subplot(row, col, 4)\n",
    "plt.title(\"canny\")\n",
    "plt.imshow(canny3)\n",
    "plt.xticks([]), plt.yticks([])\n",
    "\n",
    "plt.show()"
   ]
  },
  {
   "cell_type": "code",
   "execution_count": null,
   "id": "b52d8261",
   "metadata": {},
   "outputs": [],
   "source": [
    "plt.subplot(row, 8, 1)\n",
    "plt.title(\"cam\")\n",
    "plt.imshow(noized_target)\n",
    "plt.xticks([]), plt.yticks([])\n",
    "\n",
    "plt.subplot(row, 8, 2)\n",
    "plt.title(\"canny\")\n",
    "plt.imshow(canny4)\n",
    "plt.xticks([]), plt.yticks([])\n",
    "\n",
    "\n",
    "plt.subplot(row, 8, 3)\n",
    "plt.title(\"canny\")\n",
    "plt.imshow(canny4)\n",
    "plt.xticks([]), plt.yticks([])\n",
    "\n",
    "plt.subplot(row, 8, 4)\n",
    "plt.title(\"blurred\")\n",
    "plt.imshow(blurred4)\n",
    "plt.xticks([]), plt.yticks([])\n",
    "\n",
    "plt.show()"
   ]
  },
  {
   "cell_type": "markdown",
   "id": "04e5fe98",
   "metadata": {},
   "source": [
    "# 위의 알고리즘에서는 윤곽선 검출이 원하는대로 이루어지지 않음."
   ]
  },
  {
   "cell_type": "code",
   "execution_count": null,
   "id": "83a68e03",
   "metadata": {
    "ExecuteTime": {
     "start_time": "2024-03-24T10:45:54.638632Z"
    }
   },
   "outputs": [],
   "source": [
    "# 본 코드 응용하면 사각 박스 (끊어진 선 도출 가능할지도?)\n",
    "\"\"\"\n",
    "edges = cv2.Canny(skel, 50, 150)\n",
    "cv2.imshow(\"edges\",edges)\n",
    "lines = cv2.HoughLinesP(edges,1,np.pi/180,40,minLineLength=30,maxLineGap=30)\n",
    "i = 0\n",
    "for x1,y1,x2,y2 in lines[0]:\n",
    "    i+=1\n",
    "    cv2.line(result,(x1,y1),(x2,y2),(255,0,0),1)\n",
    "print i\n",
    "\"\"\""
   ]
  },
  {
   "cell_type": "markdown",
   "id": "5f2004fe",
   "metadata": {},
   "source": [
    "### 녹화영상 테스트 해보기"
   ]
  },
  {
   "cell_type": "markdown",
   "id": "cdbab23b",
   "metadata": {},
   "source": [
    "# 실제 카메라 detecting 구현 part\n",
    "# (일부 커널에서는 문제발생할 수 있음.)"
   ]
  },
  {
   "cell_type": "code",
   "execution_count": null,
   "id": "efbab305",
   "metadata": {
    "ExecuteTime": {
     "start_time": "2024-03-24T10:45:54.638632Z"
    }
   },
   "outputs": [],
   "source": [
    "# 클릭 시 기록\n",
    "colour = (0,255,0)\n",
    "lineWidth = 3       #-1 will result in filled circle\n",
    "radius = 30\n",
    "point = (0,0)\n",
    "\n",
    "def click(event, x,y, flags, param): # 이미지 클릭 시 좌표출력 <좌표 확인용>\n",
    "    global point, pressed\n",
    "    if event == cv2.EVENT_LBUTTONDOWN:\n",
    "        print(\"x is\",x,\"\\ny is\",y)\n",
    "        point = (x,y)"
   ]
  },
  {
   "cell_type": "code",
   "execution_count": null,
   "id": "67a72f3c",
   "metadata": {
    "ExecuteTime": {
     "start_time": "2024-03-24T10:45:54.639632Z"
    }
   },
   "outputs": [],
   "source": [
    "#비디오 캡쳐 실행\n",
    "rtsp = \"rtsp 서버주소...\"\n",
    "#cam = cv2.VideoCapture(rtsp)\n",
    "\n",
    "cam = cv2.VideoCapture(0) # for test in local\n",
    "\n",
    "\n",
    "cam.set(cv2.CAP_PROP_FRAME_WIDTH, 1080)\n",
    "cam.set(cv2.CAP_PROP_FRAME_HEIGHT, 860)\n",
    "cv2.namedWindow(\"hsv\")\n",
    "cv2.namedWindow(\"target\")\n",
    "cv2.setMouseCallback(\"hsv\", click)"
   ]
  },
  {
   "cell_type": "markdown",
   "id": "edd2659c",
   "metadata": {},
   "source": [
    "# 일반 hsv 색을 이용한 검출"
   ]
  },
  {
   "cell_type": "code",
   "execution_count": null,
   "id": "add07d31",
   "metadata": {
    "ExecuteTime": {
     "start_time": "2024-03-24T10:45:54.640632Z"
    }
   },
   "outputs": [],
   "source": [
    "# 카메라 실행\n",
    "while cv2.waitKey(1) < 0 :\n",
    "    ret, frame = cam.read()\n",
    "    hsv = cv2.cvtColor(frame,cv2.COLOR_BGR2HSV)\n",
    "    target = cv2.inRange(hsv,lower,upper)\n",
    "#    peri = cv2.arcLength(target, True)\n",
    "#    approx = cv2.approxPolyDP(target, 0.04 * peri, True)\n",
    "\n",
    "    view = StackVideo(0.8,([frame,hsv,target]))\n",
    "    cv2.imshow(\"hsv\", view)\n",
    "\n",
    "cam.release()\n",
    "cv2.destroyAllWindows()"
   ]
  },
  {
   "cell_type": "markdown",
   "id": "470c907e",
   "metadata": {},
   "source": [
    "# Canny Edge 알고리즘 적용"
   ]
  },
  {
   "cell_type": "code",
   "execution_count": null,
   "id": "2946b2f1",
   "metadata": {
    "ExecuteTime": {
     "start_time": "2024-03-24T10:45:54.641632Z"
    }
   },
   "outputs": [],
   "source": [
    "cv2.namedWindow('params')\n",
    "cv2.resizeWindow('params',800,500)\n",
    "cv2.createTrackbar('threshold', 'params', threshold, 255, change_threshold)\n",
    "cv2.createTrackbar('Canny_threshold1','params',Canny_threshold1,255,change_threshold)\n",
    "cv2.createTrackbar('Canny_threshold2','params',Canny_threshold2,360,change_threshold)\n",
    "\n",
    "while cv2.waitKey(1) < 0 :\n",
    "    threshold = cv2.getTrackbarPos('threshold','params')\n",
    "    Canny_threshold1 = cv2.getTrackbarPos('Canny_threshold1','params')\n",
    "    Canny_threshold2 = cv2.getTrackbarPos('Canny_threshold2','params')\n",
    "\n",
    "    ret, frame = cam.read()\n",
    "    blurred = cv2.GaussianBlur(gray, (5, 5), 0)\n",
    "    canny = cv2.Canny(frame,Canny_threshold1,Canny_threshold2)\n",
    "    stacking = StackVideo(0.8,([frame,blurred,canny]))\n",
    "\n",
    "    cv2.imshow(\"target\", stacking)\n",
    "\n",
    "cam.release()\n",
    "cv2.destroyAllWindows()"
   ]
  },
  {
   "cell_type": "markdown",
   "id": "bc934935",
   "metadata": {},
   "source": [
    "# 임무장비 발사체계 / 탐지 형태\n",
    "1. 파란색 -> 빨간색 -> 녹색 -> [ 사각형/원 ] ? 검출\n",
    "\n",
    "빛의 3원색에 따라 \n",
    "<p>\n",
    "파란색  : B 컬러에 대한 가중치 값\n",
    "</p><p>\n",
    "빨간색  : R 컬러에 대한 가중치 값\n",
    "</p><p>\n",
    "녹 색   : G 컬러에 대한 가중치 값\n",
    "</p>\n",
    "\n",
    "## 색 검출\n",
    "> 좌표, 크기 계산 後 유효한 벡터 범위 내에 빨간 색 도형 검출,\n",
    "> 위와 같은 방법으로 녹색까지 검출하나 녹색 검출 불가 시 조종자 판단 下 타겟팅\n",
    "\n",
    "## UX 설계\n",
    "> 조종자가 조종 중 타겟을 감지하였을 경우 \n",
    "> 알람음(사운드), 혹은 시각적 표현을 해주는 것은 어떠한가?"
   ]
  },
  {
   "cell_type": "markdown",
   "id": "6ed4d7e6",
   "metadata": {},
   "source": [
    "# 수익이형에게 알려줄 現 알고리즘 설계계획\n",
    "\n",
    "# 1차 : 타겟지점의 정의\n",
    " > 3원색 감지 + black K->B->R->G 순서로 사각박스를 인식\n",
    " <p><code>\n",
    " 1 - 1. 단일 검은색 사각박스 감지\n",
    "</code></p><p><code>\n",
    " 1 - 2. 동일한 위치에서 단일 파란색 사각박스 감지\n",
    " </code></p><p><code>\n",
    " 1 - 3. 동일한 위치에서 단일 빨간색 사각박스 감지\n",
    " </code></p><p><code>\n",
    " 1 - 4. 동일한 위치에서 단일 녹색 사각박스 감지\n",
    " \n",
    " </code></p>\n",
    " > 위의 과정 모두 만족하는 경우, 해당하는 위치가 타겟임을 정의하고 좌표출력.\n",
    "\n",
    " # 위 코드의 예상되는 문제점.\n",
    " 1. 여러 예기치못한 변수로 인하여 타겟 정의에 실패할경우?\n",
    " - 확률변수 가중치 개념을 활용하여 {타겟일 확률?}을 정의 및 확률에 따라 표현방식을 다르게 할 것\n",
    "\n"
   ]
  },
  {
   "cell_type": "markdown",
   "id": "fdbb9029",
   "metadata": {},
   "source": []
  }
 ],
 "metadata": {
  "kernelspec": {
   "display_name": "Python 3 (ipykernel)",
   "language": "python",
   "name": "python3"
  },
  "language_info": {
   "codemirror_mode": {
    "name": "ipython",
    "version": 3
   },
   "file_extension": ".py",
   "mimetype": "text/x-python",
   "name": "python",
   "nbconvert_exporter": "python",
   "pygments_lexer": "ipython3",
   "version": "3.10.9"
  }
 },
 "nbformat": 4,
 "nbformat_minor": 5
}
